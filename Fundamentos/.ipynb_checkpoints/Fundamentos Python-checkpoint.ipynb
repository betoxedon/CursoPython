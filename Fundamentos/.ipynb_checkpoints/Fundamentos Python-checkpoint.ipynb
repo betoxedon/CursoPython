{
 "cells": [
  {
   "cell_type": "markdown",
   "id": "22e6ccad",
   "metadata": {},
   "source": [
    "# Primeiros Exemplos"
   ]
  },
  {
   "cell_type": "code",
   "execution_count": null,
   "id": "a5876031",
   "metadata": {},
   "outputs": [],
   "source": [
    "print(\"primeiro programa\")\n",
    "1 \\\n",
    " + 2"
   ]
  },
  {
   "cell_type": "code",
   "execution_count": null,
   "id": "99817f4f",
   "metadata": {},
   "outputs": [],
   "source": [
    "1 + 2 + 3"
   ]
  },
  {
   "cell_type": "code",
   "execution_count": null,
   "id": "113a6ec5",
   "metadata": {},
   "outputs": [],
   "source": [
    "print(1 + 2 + 3)\n",
    "print(4 + 5 + 6)"
   ]
  },
  {
   "cell_type": "markdown",
   "id": "3edd08b2",
   "metadata": {},
   "source": [
    "# Tipos Básicos "
   ]
  },
  {
   "cell_type": "code",
   "execution_count": null,
   "id": "23a1e0a5",
   "metadata": {},
   "outputs": [],
   "source": [
    "print(True) #boolean\n",
    "print(False) #boolean\n",
    "print(1.2 + 1) #float + int\n",
    "print(\"Aqui eu falo a minha língua\") #string\n",
    "print('tanto faz aspas simples ou duplas') #string\n",
    "print('Você é ' + 3 * ' muito' + 'legal') #multiplicação de strings\n",
    "#print(3 + '3') #existe ambiguidade\n",
    "print([1, 2, 3]) #chaves\n",
    "print({'nome': 'Pedro', 'idade':22}) #dicionário\n",
    "print(None) #none"
   ]
  },
  {
   "cell_type": "markdown",
   "id": "2e8c68bb",
   "metadata": {},
   "source": [
    "# Variáveis"
   ]
  },
  {
   "cell_type": "code",
   "execution_count": null,
   "id": "7577c277",
   "metadata": {},
   "outputs": [],
   "source": [
    "a = 10\n",
    "b = 5.2\n",
    "\n",
    "print(a + b) \n",
    "\n",
    "a = 'agora sou uma string'\n",
    "print(a)\n",
    "a\n",
    "b\n",
    "\n",
    "#print(a + b)"
   ]
  },
  {
   "cell_type": "markdown",
   "id": "1e842bdb",
   "metadata": {},
   "source": [
    "# Comentários\n"
   ]
  },
  {
   "cell_type": "code",
   "execution_count": null,
   "id": "8da574f8",
   "metadata": {},
   "outputs": [],
   "source": [
    "# asuhuashuasuh\n",
    "# ajsdhuashd\n",
    "# aushuahs\n",
    "\n",
    "# minhas variáveis\n",
    "salario = 3450.45\n",
    "despesas = 2456.2\n",
    "\n",
    "\"\"\"\n",
    "a ideia é calcular \n",
    "quanto vai sobrar no final do mês\"\"\"\n",
    "print(salario-despesas)\n",
    "\n",
    "# print('Fim')\n",
    "print (\"fim de verdade\") #comentário aqui também vale"
   ]
  },
  {
   "cell_type": "markdown",
   "id": "c5d5220f",
   "metadata": {},
   "source": [
    "# Operadores Aritméticos"
   ]
  },
  {
   "cell_type": "code",
   "execution_count": null,
   "id": "cbebb94f",
   "metadata": {},
   "outputs": [],
   "source": [
    "print (2 + 3) #soma\n",
    "print (4 - 7) #Subtração\n",
    "print (2 * 5.3) #multiplicação\n",
    "print (9.4 / 3) #divisão\n",
    "print (9.4 // 3) #divisão inteiro\n",
    "print (2 ** 8) #potenciação\n",
    "print (10 % 3) #módulo\n",
    "\n",
    "a = 12\n",
    "b = a\n",
    "print (a + b)\n",
    "\n"
   ]
  },
  {
   "cell_type": "code",
   "execution_count": null,
   "id": "ea73b94d",
   "metadata": {},
   "outputs": [],
   "source": [
    "#minhas variáveis\n",
    "salario = 3450.45\n",
    "despesas = 2456.2\n",
    "percentual_comprometido = (despesas / salario)*100\n",
    "print (percentual_comprometido)"
   ]
  },
  {
   "cell_type": "markdown",
   "id": "703e36e4",
   "metadata": {},
   "source": [
    "# Operadores Relacionais"
   ]
  },
  {
   "cell_type": "code",
   "execution_count": null,
   "id": "1fd55eec",
   "metadata": {},
   "outputs": [],
   "source": [
    "3 > 4\n",
    "4 >= 3\n",
    "3 <= 1\n",
    "3 != 2\n",
    "3 == 2\n",
    "2 == \"2\""
   ]
  },
  {
   "cell_type": "markdown",
   "id": "40b3f8bc",
   "metadata": {},
   "source": [
    "# Operadores de Atribuição "
   ]
  },
  {
   "cell_type": "code",
   "execution_count": null,
   "id": "cc83f2ae",
   "metadata": {},
   "outputs": [],
   "source": [
    "a = 3\n",
    "a = a + 7\n",
    "print (a)\n",
    "\n",
    "a += 5\n",
    "print (a)\n",
    "\n",
    "a -= 3\n",
    "print (a)\n",
    "\n",
    "a *= 2\n",
    "print (a)\n",
    "\n",
    "a /= 4\n",
    "print (a)\n",
    "\n",
    "a %= 4\n",
    "print (a)\n",
    "\n",
    "a **= 8\n",
    "print (a)\n",
    "\n",
    "a //= 127\n",
    "print (a)"
   ]
  },
  {
   "cell_type": "markdown",
   "id": "5f19f032",
   "metadata": {},
   "source": [
    "# Operadores Lógicos"
   ]
  },
  {
   "cell_type": "code",
   "execution_count": null,
   "id": "f8e11c15",
   "metadata": {},
   "outputs": [],
   "source": [
    "True or False\n",
    "7 != 3 and 2 > 3\n",
    "\n",
    "#tabela verdade do and\n",
    "True and True #true\n",
    "True and False #false\n",
    "False and True #false\n",
    "False and False #false\n",
    "\n",
    "#tabela verdade do or\n",
    "True or True #True\n",
    "True or False #True\n",
    "False or True #True\n",
    "False or False #False\n",
    "\n",
    "#Tabela verdade do xor\n",
    "True != True #false\n",
    "True != False #true\n",
    "False != True #True\n",
    "False != False #False\n",
    "\n",
    "#operação de negação (unário)\n",
    "not True\n",
    "not False\n",
    "\n",
    "not 0\n",
    "not 1 \n",
    "not not 1\n",
    "not not True\n",
    "\n",
    "#Cuidado \n",
    "\n",
    "True & True #True\n",
    "True | False #Trie\n",
    "True ^ False #True\n",
    "\n",
    "#um pouco de realidade \n",
    "\n",
    "saldo = 1000\n",
    "salario = 4000\n",
    "despesas = 2967\n",
    "\n",
    "saldo_positivo = saldo > 0\n",
    "despesas_controladas = salario - despesas >= 0.2 * salario\n",
    "meta = saldo_positivo and despesas_controladas\n",
    "meta \n"
   ]
  },
  {
   "cell_type": "markdown",
   "id": "349e5dfa",
   "metadata": {},
   "source": [
    "# Desafio operadores lógicos"
   ]
  },
  {
   "cell_type": "code",
   "execution_count": null,
   "id": "17578e32",
   "metadata": {},
   "outputs": [],
   "source": [
    "# Desafios Operadores Lógicos \n",
    "\n",
    "trabalho_terça = True\n",
    "trabalho_quinta = True\n",
    "\n",
    "Tv_50 = trabalho_terça and trabalho_quinta\n",
    "Tv_32 = (trabalho_terça != trabalho_quinta)\n",
    "sorvete = trabalho_terça or trabalho_quinta\n",
    "Saude = not sorvete\n",
    "\n",
    "print (\"Tv50={} Tv32={} Sorvete={} Saudável={}\" \n",
    "       .format(Tv_50, Tv_32, sorvete, Saude))\n"
   ]
  },
  {
   "cell_type": "markdown",
   "id": "f1f120bb",
   "metadata": {},
   "source": [
    "# Operadores Unários\n"
   ]
  },
  {
   "cell_type": "code",
   "execution_count": null,
   "id": "89829b5a",
   "metadata": {},
   "outputs": [],
   "source": [
    "a = 3\n",
    "# a++\n",
    "a += 1\n",
    "a\n",
    "# a--\n",
    "++a\n",
    "-a"
   ]
  },
  {
   "cell_type": "markdown",
   "id": "12bdee32",
   "metadata": {},
   "source": [
    "# Operadores Ternários\n"
   ]
  },
  {
   "cell_type": "code",
   "execution_count": null,
   "id": "f4e3a4dd",
   "metadata": {},
   "outputs": [],
   "source": [
    "esta_chovendo = True\n",
    "print(\"Hoje estou com as roupas\" + (' secas.', ' molhadas')[esta_chovendo])\n",
    "\n",
    "print('Hoje estou com as roupas' + (' molhadas.' if esta_chovendo else ' secas.'))"
   ]
  },
  {
   "cell_type": "markdown",
   "id": "ad40d191",
   "metadata": {},
   "source": [
    "# Mais Operadores "
   ]
  },
  {
   "cell_type": "code",
   "execution_count": null,
   "id": "56b4b5d4",
   "metadata": {},
   "outputs": [],
   "source": [
    "#operadores de mebro\n",
    "lista = [1, 2, 3, 'Ana', 'Carla']\n",
    "2 in lista \n",
    "\"Ana\" not in lista\n",
    "x = 3\n",
    "y = x\n",
    "z = 3\n",
    "x is z\n",
    "y is z\n",
    "x is not z\n",
    "\n",
    "lista_a = [1, 2, 3]\n",
    "lista_b = lista_a\n",
    "lista_c = [1, 2, 3]\n",
    "\n",
    "lista_a is lista_b\n",
    "lista_b is lista_c\n",
    "lista_a is not lista_c"
   ]
  },
  {
   "cell_type": "markdown",
   "id": "8361de61",
   "metadata": {},
   "source": [
    "# Builtins "
   ]
  },
  {
   "cell_type": "code",
   "execution_count": 12,
   "id": "3b1d5cbc",
   "metadata": {},
   "outputs": [
    {
     "name": "stdout",
     "output_type": "stream",
     "text": [
      "3.3333333333333335\n",
      "Help on built-in function sorted in module builtins:\n",
      "\n",
      "sorted(iterable, /, *, key=None, reverse=False)\n",
      "    Return a new list containing all items from the iterable in ascending order.\n",
      "    \n",
      "    A custom key function can be supplied to customize the sort order, and the\n",
      "    reverse flag can be set to request the result in descending order.\n",
      "\n"
     ]
    }
   ],
   "source": [
    "#type(1)\n",
    "type(1)\n",
    "__builtins__.type(\"fala galera!\")\n",
    "__builtins__.print(10/3)\n",
    "\n",
    "#__builtins__.help (dir)\n",
    "dir()\n",
    "\n",
    "1+2\n",
    "dir()\n",
    "1+2\n",
    "dir(__builtins__)\n",
    "__builtins__.help (sorted)"
   ]
  },
  {
   "cell_type": "markdown",
   "id": "23c3b7dd",
   "metadata": {},
   "source": [
    "# Conversão de Tipos"
   ]
  },
  {
   "cell_type": "code",
   "execution_count": 27,
   "id": "9a66d307",
   "metadata": {},
   "outputs": [
    {
     "name": "stdout",
     "output_type": "stream",
     "text": [
      "<class 'int'>\n",
      "<class 'str'>\n",
      "5\n",
      "23\n",
      "5.4\n"
     ]
    }
   ],
   "source": [
    "2 + 3\n",
    "\"2\" + \"3\"\n",
    "#2 + \"3\"\n",
    "2 + int(\"3\")\n",
    "a = 2\n",
    "b = \"3\"\n",
    "\n",
    "print (type(a))\n",
    "print (type(b))\n",
    "print (a + int(b))\n",
    "print (str(a) + b)\n",
    "\n",
    "type(str(a))\n",
    "\n",
    "print (2 + float(\"3.4\"))"
   ]
  },
  {
   "cell_type": "markdown",
   "id": "51d7afed",
   "metadata": {},
   "source": [
    "# Correções Automáticas "
   ]
  },
  {
   "cell_type": "code",
   "execution_count": 40,
   "id": "e07d62b1",
   "metadata": {},
   "outputs": [
    {
     "data": {
      "text/plain": [
       "2"
      ]
     },
     "execution_count": 40,
     "metadata": {},
     "output_type": "execute_result"
    }
   ],
   "source": [
    "10 / 2\n",
    "type (10/2)\n",
    "10/3\n",
    "10 // 3\n",
    "type (10 // 3)\n",
    "10 // 3.3\n",
    "type (10 // 3.3)\n",
    "10 / 2.5 \n",
    "2 + True #considera \"True\" como 1\n",
    "2 + False #considera \"False\" como 0\n",
    "    "
   ]
  },
  {
   "cell_type": "markdown",
   "id": "8c6582e2",
   "metadata": {},
   "source": [
    "# Tipos Numéricos\n"
   ]
  },
  {
   "cell_type": "code",
   "execution_count": 61,
   "id": "4d45ae46",
   "metadata": {},
   "outputs": [
    {
     "data": {
      "text/plain": [
       "3.6"
      ]
     },
     "execution_count": 61,
     "metadata": {},
     "output_type": "execute_result"
    }
   ],
   "source": [
    "dir (int)\n",
    "dir(float)\n",
    "\n",
    "\n",
    "a = 5\n",
    "b = 2.5 \n",
    "a / b\n",
    "a * b\n",
    "\n",
    "type (a)\n",
    "type (b)\n",
    "type (a - b)\n",
    "b.is_integer()\n",
    "5.0.is_integer()\n",
    "type(5.0)\n",
    "\n",
    "dir (int)\n",
    "\n",
    "int.__add__(2,3)\n",
    "(-2).__abs__()\n",
    "abs(-2)\n",
    "\n",
    "(-3.6).__abs__()\n",
    "# dir (float)"
   ]
  },
  {
   "cell_type": "code",
   "execution_count": 72,
   "id": "7035f89e",
   "metadata": {},
   "outputs": [
    {
     "data": {
      "text/plain": [
       "['__abs__',\n",
       " '__add__',\n",
       " '__bool__',\n",
       " '__ceil__',\n",
       " '__class__',\n",
       " '__complex__',\n",
       " '__copy__',\n",
       " '__deepcopy__',\n",
       " '__delattr__',\n",
       " '__dir__',\n",
       " '__divmod__',\n",
       " '__doc__',\n",
       " '__eq__',\n",
       " '__float__',\n",
       " '__floor__',\n",
       " '__floordiv__',\n",
       " '__format__',\n",
       " '__ge__',\n",
       " '__getattribute__',\n",
       " '__gt__',\n",
       " '__hash__',\n",
       " '__init__',\n",
       " '__init_subclass__',\n",
       " '__int__',\n",
       " '__le__',\n",
       " '__lt__',\n",
       " '__mod__',\n",
       " '__module__',\n",
       " '__mul__',\n",
       " '__ne__',\n",
       " '__neg__',\n",
       " '__new__',\n",
       " '__pos__',\n",
       " '__pow__',\n",
       " '__radd__',\n",
       " '__rdivmod__',\n",
       " '__reduce__',\n",
       " '__reduce_ex__',\n",
       " '__repr__',\n",
       " '__rfloordiv__',\n",
       " '__rmod__',\n",
       " '__rmul__',\n",
       " '__round__',\n",
       " '__rpow__',\n",
       " '__rsub__',\n",
       " '__rtruediv__',\n",
       " '__setattr__',\n",
       " '__sizeof__',\n",
       " '__str__',\n",
       " '__sub__',\n",
       " '__subclasshook__',\n",
       " '__truediv__',\n",
       " '__trunc__',\n",
       " 'adjusted',\n",
       " 'as_integer_ratio',\n",
       " 'as_tuple',\n",
       " 'canonical',\n",
       " 'compare',\n",
       " 'compare_signal',\n",
       " 'compare_total',\n",
       " 'compare_total_mag',\n",
       " 'conjugate',\n",
       " 'copy_abs',\n",
       " 'copy_negate',\n",
       " 'copy_sign',\n",
       " 'exp',\n",
       " 'fma',\n",
       " 'from_float',\n",
       " 'imag',\n",
       " 'is_canonical',\n",
       " 'is_finite',\n",
       " 'is_infinite',\n",
       " 'is_nan',\n",
       " 'is_normal',\n",
       " 'is_qnan',\n",
       " 'is_signed',\n",
       " 'is_snan',\n",
       " 'is_subnormal',\n",
       " 'is_zero',\n",
       " 'ln',\n",
       " 'log10',\n",
       " 'logb',\n",
       " 'logical_and',\n",
       " 'logical_invert',\n",
       " 'logical_or',\n",
       " 'logical_xor',\n",
       " 'max',\n",
       " 'max_mag',\n",
       " 'min',\n",
       " 'min_mag',\n",
       " 'next_minus',\n",
       " 'next_plus',\n",
       " 'next_toward',\n",
       " 'normalize',\n",
       " 'number_class',\n",
       " 'quantize',\n",
       " 'radix',\n",
       " 'real',\n",
       " 'remainder_near',\n",
       " 'rotate',\n",
       " 'same_quantum',\n",
       " 'scaleb',\n",
       " 'shift',\n",
       " 'sqrt',\n",
       " 'to_eng_string',\n",
       " 'to_integral',\n",
       " 'to_integral_exact',\n",
       " 'to_integral_value']"
      ]
     },
     "execution_count": 72,
     "metadata": {},
     "output_type": "execute_result"
    }
   ],
   "source": [
    "# 1.1 + 2.2\n",
    "from decimal import Decimal, getcontext\n",
    "Decimal (1) / Decimal (7)\n",
    "getcontext().prec = 4\n",
    "Decimal (1) / Decimal (7)\n",
    "Decimal.max(Decimal(1), Decimal(7))\n",
    "1.1 + 2.2\n",
    "getcontext().prec = 15\n",
    "Decimal(1.1) + Decimal (2.2)\n",
    "\n",
    "dir(Decimal)"
   ]
  },
  {
   "cell_type": "markdown",
   "id": "e36fb4df",
   "metadata": {},
   "source": [
    "# Tipo Strings\n"
   ]
  },
  {
   "cell_type": "code",
   "execution_count": 94,
   "id": "952b7dd1",
   "metadata": {},
   "outputs": [
    {
     "name": "stdout",
     "output_type": "stream",
     "text": [
      " texto com múltiplas \n",
      "    .....linhas\n"
     ]
    }
   ],
   "source": [
    "dir (str)\n",
    "nome = \"Saulo Pedro\"\n",
    "nome\n",
    "#nome [0] = \"p\"\n",
    "\n",
    "\"'marca d'água\"\n",
    "\"Dias D'Àvila\" == 'Dias D\\'Ávila'\n",
    "\n",
    "texto = 'Texto entre apostrófos pode ter \"aspas\"'\n",
    "\"Teste \\\" funciona!\"\n",
    "texto\n",
    "\n",
    "doc = \"\"\" texto com múltiplas \n",
    "    .....linhas\"\"\"\n",
    "print(doc)"
   ]
  },
  {
   "cell_type": "code",
   "execution_count": 112,
   "id": "4ab771fb",
   "metadata": {},
   "outputs": [
    {
     "data": {
      "text/plain": [
       "'aluaP anA'"
      ]
     },
     "execution_count": 112,
     "metadata": {},
     "output_type": "execute_result"
    }
   ],
   "source": [
    "nome = \"Ana Paula\"\n",
    "nome [0]\n",
    "nome [6]\n",
    "nome [-3]\n",
    "nome [4:]\n",
    "nome [-5:]\n",
    "nome [:3]\n",
    "nome [:4]\n",
    "\n",
    "nome [2:5]\n",
    "\n",
    "numeros = \"123456789\"\n",
    "numeros\n",
    "numeros [::]\n",
    "numeros[::2]\n",
    "numeros[1::2]\n",
    "numeros [::-1]\n",
    "numeros [::-2]\n",
    "nome[::-1]"
   ]
  },
  {
   "cell_type": "code",
   "execution_count": 130,
   "id": "977e6c64",
   "metadata": {},
   "outputs": [
    {
     "ename": "NameError",
     "evalue": "name 'rtr' is not defined",
     "output_type": "error",
     "traceback": [
      "\u001b[0;31m---------------------------------------------------------------------------\u001b[0m",
      "\u001b[0;31mNameError\u001b[0m                                 Traceback (most recent call last)",
      "\u001b[0;32m<ipython-input-130-fc4520d719a7>\u001b[0m in \u001b[0;36m<module>\u001b[0;34m\u001b[0m\n\u001b[1;32m     11\u001b[0m \u001b[0mfrase\u001b[0m\u001b[0;34m.\u001b[0m\u001b[0msplit\u001b[0m\u001b[0;34m(\u001b[0m\u001b[0;34m'E'\u001b[0m\u001b[0;34m)\u001b[0m\u001b[0;34m\u001b[0m\u001b[0;34m\u001b[0m\u001b[0m\n\u001b[1;32m     12\u001b[0m \u001b[0;34m\u001b[0m\u001b[0m\n\u001b[0;32m---> 13\u001b[0;31m \u001b[0mdir\u001b[0m\u001b[0;34m(\u001b[0m\u001b[0mrtr\u001b[0m\u001b[0;34m)\u001b[0m\u001b[0;34m\u001b[0m\u001b[0;34m\u001b[0m\u001b[0m\n\u001b[0m",
      "\u001b[0;31mNameError\u001b[0m: name 'rtr' is not defined"
     ]
    }
   ],
   "source": [
    "frase = 'Python é uma linguagem excelente'\n",
    "\"py\" not in frase\n",
    "'ing' in frase\n",
    "len (frase)\n",
    "frase.lower()\n",
    "frase.upper()\n",
    "frase\n",
    "frase = frase.upper()\n",
    "frase\n",
    "\n",
    "frase.split('E')\n",
    "\n",
    "dir(rtr)\n"
   ]
  }
 ],
 "metadata": {
  "kernelspec": {
   "display_name": "Python 3",
   "language": "python",
   "name": "python3"
  },
  "language_info": {
   "codemirror_mode": {
    "name": "ipython",
    "version": 3
   },
   "file_extension": ".py",
   "mimetype": "text/x-python",
   "name": "python",
   "nbconvert_exporter": "python",
   "pygments_lexer": "ipython3",
   "version": "3.8.8"
  }
 },
 "nbformat": 4,
 "nbformat_minor": 5
}
